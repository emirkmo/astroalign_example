{
 "cells": [
  {
   "cell_type": "code",
   "execution_count": 1,
   "metadata": {},
   "outputs": [
    {
     "name": "stderr",
     "output_type": "stream",
     "text": [
      "/Users/cgwa/anaconda3/lib/python3.7/site-packages/dask/config.py:168: YAMLLoadWarning: calling yaml.load() without Loader=... is deprecated, as the default Loader is unsafe. Please read https://msg.pyyaml.org/load for full details.\n",
      "  data = yaml.load(f.read()) or {}\n"
     ]
    },
    {
     "name": "stdout",
     "output_type": "stream",
     "text": [
      "2.4\n"
     ]
    }
   ],
   "source": [
    "import numpy as np\n",
    "import astroalign as aa\n",
    "%matplotlib inline\n",
    "import matplotlib.pyplot as plt\n",
    "# We pick a frame that is relatively well matched and doesn't have too many stars for testing\n",
    "# target is extractions via sep, source is references star positions from Gaia DR2\n",
    "# that have been converted to pixel via image WCS and have proper_motion corrections applied for\n",
    "# the observing epoch.\n",
    "target = np.load('target.npy')\n",
    "source = np.load('source.npy')\n",
    "print(aa.__version__)"
   ]
  },
  {
   "cell_type": "code",
   "execution_count": 2,
   "metadata": {},
   "outputs": [],
   "source": [
    "target = np.array([\n",
    "       [1939.61091278,  145.97199619],\n",
    "       [1414.73856939,  699.84376775],\n",
    "       [ 443.95616162, 1613.83448891],\n",
    "       [  29.26206659,  533.59769915],\n",
    "       [1307.73949466, 1720.89731285],\n",
    "       [ 269.44925722, 1168.60692508],\n",
    "       [ 347.72363019, 1508.79888574],\n",
    "       [1339.17433198,  755.03709459],\n",
    "       # [1065.11922163,  992.36672755],\n",
    "       [ 804.13380434,  306.39669807],\n",
    "       # [ 183.40065501,   33.02123106],\n",
    "       [ 330.62021711,  630.8327855 ]])\n",
    "source = np.array([\n",
    "       [1938.37626961,  144.78829716],\n",
    "       [1413.83088379,  698.74346478],\n",
    "       [ 446.22102727, 1608.89147852],\n",
    "       [  38.17518941,  497.67654027],\n",
    "       [ 274.79396628, 1150.91243213],\n",
    "       [1303.37481756, 1737.41251239],\n",
    "       [ 351.25880491, 1499.46153497],\n",
    "       [1338.57357103,  753.22720998],\n",
    "       [ 809.14769414,  283.77526048],\n",
    "       [ 337.56582895,  603.9644749 ],\n",
    "       # [  71.62501805, 1100.55389796],\n",
    "       # [ 415.63476008,  530.54158354],\n",
    "       # [1058.24268509,  436.67670509],\n",
    "       # [1819.99043652,  646.63832159],\n",
    "       # [1068.39684325,  833.41737688],\n",
    "       # [1514.16609617,  287.30845015],\n",
    "       # [  12.69682083, 1647.82361376],\n",
    "       # [ 483.60142586, 1605.47633224],\n",
    "       # [1638.26330787, 1567.9524492 ],\n",
    "       # [ 205.40087013, 1172.44950913],\n",
    "       # [  13.52065636, 1139.02371157]\n",
    "])"
   ]
  },
  {
   "cell_type": "code",
   "execution_count": 3,
   "metadata": {},
   "outputs": [
    {
     "data": {
      "text/plain": [
       "<matplotlib.legend.Legend at 0x7fcf179f8b70>"
      ]
     },
     "execution_count": 3,
     "metadata": {},
     "output_type": "execute_result"
    },
    {
     "data": {
      "image/png": "[encoded data removed]",
      "text/plain": [
       "<Figure size 576x576 with 1 Axes>"
      ]
     },
     "metadata": {
      "needs_background": "light"
     },
     "output_type": "display_data"
    }
   ],
   "source": [
    "plt.figure(figsize=(8,8))\n",
    "plt.scatter(target[:,0],target[:,1],marker='d',label='extractions')\n",
    "plt.scatter(source[:,0],source[:,1],alpha=0.7,marker='o',s=80,\n",
    "            label='references',facecolor='None',edgecolor='red')\n",
    "plt.xlabel('x')\n",
    "plt.ylabel('y')\n",
    "plt.legend()"
   ]
  },
  {
   "cell_type": "markdown",
   "metadata": {},
   "source": [
    "### Some info about the arrays."
   ]
  },
  {
   "cell_type": "code",
   "execution_count": 4,
   "metadata": {},
   "outputs": [
    {
     "name": "stdout",
     "output_type": "stream",
     "text": [
      "lengths: 10 10 shapes: (10, 2) (10, 2)\n",
      "[1938.37626961  144.78829716] [1939.61091278  145.97199619]\n",
      "[1413.83088379  698.74346478] [1414.73856939  699.84376775]\n",
      "[ 446.22102727 1608.89147852] [ 443.95616162 1613.83448891]\n",
      "[ 38.17518941 497.67654027] [ 29.26206659 533.59769915]\n",
      "[ 274.79396628 1150.91243213] [1307.73949466 1720.89731285]\n",
      "[1303.37481756 1737.41251239] [ 269.44925722 1168.60692508]\n",
      "[ 351.25880491 1499.46153497] [ 347.72363019 1508.79888574]\n",
      "[1338.57357103  753.22720998] [1339.17433198  755.03709459]\n",
      "[809.14769414 283.77526048] [804.13380434 306.39669807]\n",
      "[337.56582895 603.9644749 ] [330.62021711 630.8327855 ]\n"
     ]
    }
   ],
   "source": [
    "print('lengths:',len(target),len(source),'shapes:',target.shape,source.shape)\n",
    "for i,stara in enumerate(source):\n",
    "    try:\n",
    "        print(stara,target[i])\n",
    "    except IndexError:\n",
    "        print(stara)"
   ]
  },
  {
   "cell_type": "markdown",
   "metadata": {},
   "source": [
    "### Notice:\n",
    "\n",
    "There are roughly 10 matching stars.\n",
    "\n",
    "The arrays are already somewhat aligned by brightness, with the top 4 stars being confirmed matches.\n",
    "\n",
    "Now I demonstrate the only ways it works (limit to pre-matched stars at the beginning of the array)."
   ]
  },
  {
   "cell_type": "code",
   "execution_count": 5,
   "metadata": {},
   "outputs": [
    {
     "data": {
      "text/plain": [
       "(<skimage.transform._geometric.SimilarityTransform at 0x7fcf17d16a20>,\n",
       " (array([[1938.37626961,  144.78829716],\n",
       "         [  38.17518941,  497.67654027],\n",
       "         [ 337.56582895,  603.9644749 ],\n",
       "         [1338.57357103,  753.22720998],\n",
       "         [ 809.14769414,  283.77526048],\n",
       "         [1413.83088379,  698.74346478]]),\n",
       "  array([[1939.61091278,  145.97199619],\n",
       "         [  29.26206659,  533.59769915],\n",
       "         [ 330.62021711,  630.8327855 ],\n",
       "         [1339.17433198,  755.03709459],\n",
       "         [ 804.13380434,  306.39669807],\n",
       "         [1414.73856939,  699.84376775]])))"
      ]
     },
     "execution_count": 5,
     "metadata": {},
     "output_type": "execute_result"
    }
   ],
   "source": [
    "#Starting with what does not work:\n",
    "fwhm = 5  #Based on FWHM of extracted stars\n",
    "aa.PIXEL_TOL = 2*fwhm #Not sure what to set this at.\n",
    "aa.find_transform(source,target)"
   ]
  },
  {
   "cell_type": "code",
   "execution_count": 6,
   "metadata": {},
   "outputs": [
    {
     "data": {
      "text/plain": [
       "(<skimage.transform._geometric.SimilarityTransform at 0x7fcf15315438>,\n",
       " (array([[1938.37626961,  144.78829716],\n",
       "         [1413.83088379,  698.74346478],\n",
       "         [ 446.22102727, 1608.89147852]]),\n",
       "  array([[1939.61091278,  145.97199619],\n",
       "         [1414.73856939,  699.84376775],\n",
       "         [ 443.95616162, 1613.83448891]])))"
      ]
     },
     "execution_count": 6,
     "metadata": {},
     "output_type": "execute_result"
    }
   ],
   "source": [
    "#The only way it works\n",
    "fwhm = 5  #Based on FWHM of extracted stars\n",
    "aa.PIXEL_TOL = 2*fwhm #Not sure what to set this at.\n",
    "aa.find_transform(source,target,max_control_points=3) #This works"
   ]
  },
  {
   "cell_type": "code",
   "execution_count": 7,
   "metadata": {},
   "outputs": [
    {
     "ename": "MaxIterError",
     "evalue": "List of matching triangles exhausted before an acceptable transformation was found",
     "output_type": "error",
     "traceback": [
      "\u001b[0;31m---------------------------------------------------------------------------\u001b[0m",
      "\u001b[0;31mMaxIterError\u001b[0m                              Traceback (most recent call last)",
      "\u001b[0;32m<ipython-input-7-f6fc7384bae5>\u001b[0m in \u001b[0;36m<module>\u001b[0;34m\u001b[0m\n\u001b[0;32m----> 1\u001b[0;31m \u001b[0maa\u001b[0m\u001b[0;34m.\u001b[0m\u001b[0mfind_transform\u001b[0m\u001b[0;34m(\u001b[0m\u001b[0msource\u001b[0m\u001b[0;34m,\u001b[0m\u001b[0mtarget\u001b[0m\u001b[0;34m,\u001b[0m\u001b[0mmax_control_points\u001b[0m\u001b[0;34m=\u001b[0m\u001b[0;36m4\u001b[0m\u001b[0;34m)\u001b[0m \u001b[0;31m#This Fails\u001b[0m\u001b[0;34m\u001b[0m\u001b[0;34m\u001b[0m\u001b[0m\n\u001b[0m",
      "\u001b[0;32m~/Academia/Research/TOROS/Code/astroalign/astroalign.py\u001b[0m in \u001b[0;36mfind_transform\u001b[0;34m(source, target, max_control_points, detection_sigma, min_area)\u001b[0m\n\u001b[1;32m    334\u001b[0m     \u001b[0;32melse\u001b[0m\u001b[0;34m:\u001b[0m\u001b[0;34m\u001b[0m\u001b[0;34m\u001b[0m\u001b[0m\n\u001b[1;32m    335\u001b[0m         best_t, inlier_ind = _ransac(\n\u001b[0;32m--> 336\u001b[0;31m             \u001b[0mmatches\u001b[0m\u001b[0;34m,\u001b[0m \u001b[0minv_model\u001b[0m\u001b[0;34m,\u001b[0m \u001b[0mPIXEL_TOL\u001b[0m\u001b[0;34m,\u001b[0m \u001b[0mmin_matches\u001b[0m\u001b[0;34m\u001b[0m\u001b[0;34m\u001b[0m\u001b[0m\n\u001b[0m\u001b[1;32m    337\u001b[0m         )\n\u001b[1;32m    338\u001b[0m     \u001b[0mtriangle_inliers\u001b[0m \u001b[0;34m=\u001b[0m \u001b[0mmatches\u001b[0m\u001b[0;34m[\u001b[0m\u001b[0minlier_ind\u001b[0m\u001b[0;34m]\u001b[0m\u001b[0;34m\u001b[0m\u001b[0;34m\u001b[0m\u001b[0m\n",
      "\u001b[0;32m~/Academia/Research/TOROS/Code/astroalign/astroalign.py\u001b[0m in \u001b[0;36m_ransac\u001b[0;34m(data, model, thresh, min_matches)\u001b[0m\n\u001b[1;32m    567\u001b[0m     \u001b[0;32mif\u001b[0m \u001b[0mgood_fit\u001b[0m \u001b[0;32mis\u001b[0m \u001b[0;32mNone\u001b[0m\u001b[0;34m:\u001b[0m\u001b[0;34m\u001b[0m\u001b[0;34m\u001b[0m\u001b[0m\n\u001b[1;32m    568\u001b[0m         raise MaxIterError(\n\u001b[0;32m--> 569\u001b[0;31m             \u001b[0;34m\"List of matching triangles exhausted before an acceptable \"\u001b[0m\u001b[0;34m\u001b[0m\u001b[0;34m\u001b[0m\u001b[0m\n\u001b[0m\u001b[1;32m    570\u001b[0m             \u001b[0;34m\"transformation was found\"\u001b[0m\u001b[0;34m\u001b[0m\u001b[0;34m\u001b[0m\u001b[0m\n\u001b[1;32m    571\u001b[0m         )\n",
      "\u001b[0;31mMaxIterError\u001b[0m: List of matching triangles exhausted before an acceptable transformation was found"
     ]
    }
   ],
   "source": [
    "aa.find_transform(source,target,max_control_points=4) #This Fails"
   ]
  },
  {
   "cell_type": "code",
   "execution_count": 8,
   "metadata": {},
   "outputs": [
    {
     "data": {
      "text/plain": [
       "(<skimage.transform._geometric.SimilarityTransform at 0x7fcf17d16f28>,\n",
       " (array([[1413.83088379,  698.74346478],\n",
       "         [ 446.22102727, 1608.89147852],\n",
       "         [  38.17518941,  497.67654027]]),\n",
       "  array([[1414.73856939,  699.84376775],\n",
       "         [ 443.95616162, 1613.83448891],\n",
       "         [  29.26206659,  533.59769915]])))"
      ]
     },
     "execution_count": 8,
     "metadata": {},
     "output_type": "execute_result"
    }
   ],
   "source": [
    "aa.find_transform(source[1:],target[1:],max_control_points=3) #This Works"
   ]
  },
  {
   "cell_type": "code",
   "execution_count": 9,
   "metadata": {},
   "outputs": [
    {
     "ename": "MaxIterError",
     "evalue": "List of matching triangles exhausted before an acceptable transformation was found",
     "output_type": "error",
     "traceback": [
      "\u001b[0;31m---------------------------------------------------------------------------\u001b[0m",
      "\u001b[0;31mMaxIterError\u001b[0m                              Traceback (most recent call last)",
      "\u001b[0;32m<ipython-input-9-320b404292a5>\u001b[0m in \u001b[0;36m<module>\u001b[0;34m\u001b[0m\n\u001b[0;32m----> 1\u001b[0;31m \u001b[0maa\u001b[0m\u001b[0;34m.\u001b[0m\u001b[0mfind_transform\u001b[0m\u001b[0;34m(\u001b[0m\u001b[0msource\u001b[0m\u001b[0;34m,\u001b[0m\u001b[0mtarget\u001b[0m\u001b[0;34m[\u001b[0m\u001b[0;36m1\u001b[0m\u001b[0;34m:\u001b[0m\u001b[0;34m]\u001b[0m\u001b[0;34m,\u001b[0m\u001b[0mmax_control_points\u001b[0m\u001b[0;34m=\u001b[0m\u001b[0;36m3\u001b[0m\u001b[0;34m)\u001b[0m \u001b[0;31m#This Fails\u001b[0m\u001b[0;34m\u001b[0m\u001b[0;34m\u001b[0m\u001b[0m\n\u001b[0m",
      "\u001b[0;32m~/Academia/Research/TOROS/Code/astroalign/astroalign.py\u001b[0m in \u001b[0;36mfind_transform\u001b[0;34m(source, target, max_control_points, detection_sigma, min_area)\u001b[0m\n\u001b[1;32m    334\u001b[0m     \u001b[0;32melse\u001b[0m\u001b[0;34m:\u001b[0m\u001b[0;34m\u001b[0m\u001b[0;34m\u001b[0m\u001b[0m\n\u001b[1;32m    335\u001b[0m         best_t, inlier_ind = _ransac(\n\u001b[0;32m--> 336\u001b[0;31m             \u001b[0mmatches\u001b[0m\u001b[0;34m,\u001b[0m \u001b[0minv_model\u001b[0m\u001b[0;34m,\u001b[0m \u001b[0mPIXEL_TOL\u001b[0m\u001b[0;34m,\u001b[0m \u001b[0mmin_matches\u001b[0m\u001b[0;34m\u001b[0m\u001b[0;34m\u001b[0m\u001b[0m\n\u001b[0m\u001b[1;32m    337\u001b[0m         )\n\u001b[1;32m    338\u001b[0m     \u001b[0mtriangle_inliers\u001b[0m \u001b[0;34m=\u001b[0m \u001b[0mmatches\u001b[0m\u001b[0;34m[\u001b[0m\u001b[0minlier_ind\u001b[0m\u001b[0;34m]\u001b[0m\u001b[0;34m\u001b[0m\u001b[0;34m\u001b[0m\u001b[0m\n",
      "\u001b[0;32m~/Academia/Research/TOROS/Code/astroalign/astroalign.py\u001b[0m in \u001b[0;36m_ransac\u001b[0;34m(data, model, thresh, min_matches)\u001b[0m\n\u001b[1;32m    567\u001b[0m     \u001b[0;32mif\u001b[0m \u001b[0mgood_fit\u001b[0m \u001b[0;32mis\u001b[0m \u001b[0;32mNone\u001b[0m\u001b[0;34m:\u001b[0m\u001b[0;34m\u001b[0m\u001b[0;34m\u001b[0m\u001b[0m\n\u001b[1;32m    568\u001b[0m         raise MaxIterError(\n\u001b[0;32m--> 569\u001b[0;31m             \u001b[0;34m\"List of matching triangles exhausted before an acceptable \"\u001b[0m\u001b[0;34m\u001b[0m\u001b[0;34m\u001b[0m\u001b[0m\n\u001b[0m\u001b[1;32m    570\u001b[0m             \u001b[0;34m\"transformation was found\"\u001b[0m\u001b[0;34m\u001b[0m\u001b[0;34m\u001b[0m\u001b[0m\n\u001b[1;32m    571\u001b[0m         )\n",
      "\u001b[0;31mMaxIterError\u001b[0m: List of matching triangles exhausted before an acceptable transformation was found"
     ]
    }
   ],
   "source": [
    "aa.find_transform(source,target[1:],max_control_points=3) #This Fails"
   ]
  },
  {
   "cell_type": "code",
   "execution_count": 10,
   "metadata": {},
   "outputs": [
    {
     "ename": "MaxIterError",
     "evalue": "List of matching triangles exhausted before an acceptable transformation was found",
     "output_type": "error",
     "traceback": [
      "\u001b[0;31m---------------------------------------------------------------------------\u001b[0m",
      "\u001b[0;31mMaxIterError\u001b[0m                              Traceback (most recent call last)",
      "\u001b[0;32m<ipython-input-10-ab4978de45f0>\u001b[0m in \u001b[0;36m<module>\u001b[0;34m\u001b[0m\n\u001b[0;32m----> 1\u001b[0;31m \u001b[0maa\u001b[0m\u001b[0;34m.\u001b[0m\u001b[0mfind_transform\u001b[0m\u001b[0;34m(\u001b[0m\u001b[0msource\u001b[0m\u001b[0;34m[\u001b[0m\u001b[0;36m1\u001b[0m\u001b[0;34m:\u001b[0m\u001b[0;34m]\u001b[0m\u001b[0;34m,\u001b[0m\u001b[0mtarget\u001b[0m\u001b[0;34m,\u001b[0m\u001b[0mmax_control_points\u001b[0m\u001b[0;34m=\u001b[0m\u001b[0;36m3\u001b[0m\u001b[0;34m)\u001b[0m \u001b[0;31m#This Fails\u001b[0m\u001b[0;34m\u001b[0m\u001b[0;34m\u001b[0m\u001b[0m\n\u001b[0m",
      "\u001b[0;32m~/Academia/Research/TOROS/Code/astroalign/astroalign.py\u001b[0m in \u001b[0;36mfind_transform\u001b[0;34m(source, target, max_control_points, detection_sigma, min_area)\u001b[0m\n\u001b[1;32m    334\u001b[0m     \u001b[0;32melse\u001b[0m\u001b[0;34m:\u001b[0m\u001b[0;34m\u001b[0m\u001b[0;34m\u001b[0m\u001b[0m\n\u001b[1;32m    335\u001b[0m         best_t, inlier_ind = _ransac(\n\u001b[0;32m--> 336\u001b[0;31m             \u001b[0mmatches\u001b[0m\u001b[0;34m,\u001b[0m \u001b[0minv_model\u001b[0m\u001b[0;34m,\u001b[0m \u001b[0mPIXEL_TOL\u001b[0m\u001b[0;34m,\u001b[0m \u001b[0mmin_matches\u001b[0m\u001b[0;34m\u001b[0m\u001b[0;34m\u001b[0m\u001b[0m\n\u001b[0m\u001b[1;32m    337\u001b[0m         )\n\u001b[1;32m    338\u001b[0m     \u001b[0mtriangle_inliers\u001b[0m \u001b[0;34m=\u001b[0m \u001b[0mmatches\u001b[0m\u001b[0;34m[\u001b[0m\u001b[0minlier_ind\u001b[0m\u001b[0;34m]\u001b[0m\u001b[0;34m\u001b[0m\u001b[0;34m\u001b[0m\u001b[0m\n",
      "\u001b[0;32m~/Academia/Research/TOROS/Code/astroalign/astroalign.py\u001b[0m in \u001b[0;36m_ransac\u001b[0;34m(data, model, thresh, min_matches)\u001b[0m\n\u001b[1;32m    567\u001b[0m     \u001b[0;32mif\u001b[0m \u001b[0mgood_fit\u001b[0m \u001b[0;32mis\u001b[0m \u001b[0;32mNone\u001b[0m\u001b[0;34m:\u001b[0m\u001b[0;34m\u001b[0m\u001b[0;34m\u001b[0m\u001b[0m\n\u001b[1;32m    568\u001b[0m         raise MaxIterError(\n\u001b[0;32m--> 569\u001b[0;31m             \u001b[0;34m\"List of matching triangles exhausted before an acceptable \"\u001b[0m\u001b[0;34m\u001b[0m\u001b[0;34m\u001b[0m\u001b[0m\n\u001b[0m\u001b[1;32m    570\u001b[0m             \u001b[0;34m\"transformation was found\"\u001b[0m\u001b[0;34m\u001b[0m\u001b[0;34m\u001b[0m\u001b[0m\n\u001b[1;32m    571\u001b[0m         )\n",
      "\u001b[0;31mMaxIterError\u001b[0m: List of matching triangles exhausted before an acceptable transformation was found"
     ]
    }
   ],
   "source": [
    "aa.find_transform(source[1:],target,max_control_points=3) #This Fails"
   ]
  },
  {
   "cell_type": "code",
   "execution_count": 11,
   "metadata": {},
   "outputs": [
    {
     "name": "stdout",
     "output_type": "stream",
     "text": [
      "We succeeded, NUM_NEAREST_NEIGHBORS = 5, max_control_points=3, PIXEL_TOL=2\n",
      "We failed NUM_NEAREST_NEIGHBORS = 5, max_control_points=4, PIXEL_TOL=2\n",
      "We failed NUM_NEAREST_NEIGHBORS = 5, max_control_points=5, PIXEL_TOL=2\n",
      "We failed NUM_NEAREST_NEIGHBORS = 5, max_control_points=21, PIXEL_TOL=2\n",
      "We succeeded, NUM_NEAREST_NEIGHBORS = 10, max_control_points=3, PIXEL_TOL=2\n",
      "We failed NUM_NEAREST_NEIGHBORS = 10, max_control_points=4, PIXEL_TOL=2\n",
      "We failed NUM_NEAREST_NEIGHBORS = 10, max_control_points=5, PIXEL_TOL=2\n",
      "We failed NUM_NEAREST_NEIGHBORS = 10, max_control_points=21, PIXEL_TOL=2\n",
      "We succeeded, NUM_NEAREST_NEIGHBORS = 15, max_control_points=3, PIXEL_TOL=2\n",
      "We failed NUM_NEAREST_NEIGHBORS = 15, max_control_points=4, PIXEL_TOL=2\n",
      "We failed NUM_NEAREST_NEIGHBORS = 15, max_control_points=5, PIXEL_TOL=2\n",
      "We failed NUM_NEAREST_NEIGHBORS = 15, max_control_points=21, PIXEL_TOL=2\n",
      "We succeeded, NUM_NEAREST_NEIGHBORS = 21, max_control_points=3, PIXEL_TOL=2\n",
      "We failed NUM_NEAREST_NEIGHBORS = 21, max_control_points=4, PIXEL_TOL=2\n",
      "We failed NUM_NEAREST_NEIGHBORS = 21, max_control_points=5, PIXEL_TOL=2\n",
      "We failed NUM_NEAREST_NEIGHBORS = 21, max_control_points=21, PIXEL_TOL=2\n",
      "\n",
      "We succeeded, NUM_NEAREST_NEIGHBORS = 5, max_control_points=3, PIXEL_TOL=5\n",
      "We failed NUM_NEAREST_NEIGHBORS = 5, max_control_points=4, PIXEL_TOL=5\n",
      "We failed NUM_NEAREST_NEIGHBORS = 5, max_control_points=5, PIXEL_TOL=5\n",
      "We failed NUM_NEAREST_NEIGHBORS = 5, max_control_points=21, PIXEL_TOL=5\n",
      "We succeeded, NUM_NEAREST_NEIGHBORS = 10, max_control_points=3, PIXEL_TOL=5\n",
      "We failed NUM_NEAREST_NEIGHBORS = 10, max_control_points=4, PIXEL_TOL=5\n",
      "We failed NUM_NEAREST_NEIGHBORS = 10, max_control_points=5, PIXEL_TOL=5\n",
      "We failed NUM_NEAREST_NEIGHBORS = 10, max_control_points=21, PIXEL_TOL=5\n",
      "We succeeded, NUM_NEAREST_NEIGHBORS = 15, max_control_points=3, PIXEL_TOL=5\n",
      "We failed NUM_NEAREST_NEIGHBORS = 15, max_control_points=4, PIXEL_TOL=5\n",
      "We failed NUM_NEAREST_NEIGHBORS = 15, max_control_points=5, PIXEL_TOL=5\n",
      "We failed NUM_NEAREST_NEIGHBORS = 15, max_control_points=21, PIXEL_TOL=5\n",
      "We succeeded, NUM_NEAREST_NEIGHBORS = 21, max_control_points=3, PIXEL_TOL=5\n",
      "We failed NUM_NEAREST_NEIGHBORS = 21, max_control_points=4, PIXEL_TOL=5\n",
      "We failed NUM_NEAREST_NEIGHBORS = 21, max_control_points=5, PIXEL_TOL=5\n",
      "We failed NUM_NEAREST_NEIGHBORS = 21, max_control_points=21, PIXEL_TOL=5\n",
      "\n",
      "We succeeded, NUM_NEAREST_NEIGHBORS = 5, max_control_points=3, PIXEL_TOL=10\n",
      "We failed NUM_NEAREST_NEIGHBORS = 5, max_control_points=4, PIXEL_TOL=10\n",
      "We failed NUM_NEAREST_NEIGHBORS = 5, max_control_points=5, PIXEL_TOL=10\n",
      "We succeeded, NUM_NEAREST_NEIGHBORS = 5, max_control_points=21, PIXEL_TOL=10\n",
      "We succeeded, NUM_NEAREST_NEIGHBORS = 10, max_control_points=3, PIXEL_TOL=10\n",
      "We failed NUM_NEAREST_NEIGHBORS = 10, max_control_points=4, PIXEL_TOL=10\n",
      "We failed NUM_NEAREST_NEIGHBORS = 10, max_control_points=5, PIXEL_TOL=10\n",
      "We succeeded, NUM_NEAREST_NEIGHBORS = 10, max_control_points=21, PIXEL_TOL=10\n",
      "We succeeded, NUM_NEAREST_NEIGHBORS = 15, max_control_points=3, PIXEL_TOL=10\n",
      "We failed NUM_NEAREST_NEIGHBORS = 15, max_control_points=4, PIXEL_TOL=10\n",
      "We failed NUM_NEAREST_NEIGHBORS = 15, max_control_points=5, PIXEL_TOL=10\n",
      "We succeeded, NUM_NEAREST_NEIGHBORS = 15, max_control_points=21, PIXEL_TOL=10\n",
      "We succeeded, NUM_NEAREST_NEIGHBORS = 21, max_control_points=3, PIXEL_TOL=10\n",
      "We failed NUM_NEAREST_NEIGHBORS = 21, max_control_points=4, PIXEL_TOL=10\n",
      "We failed NUM_NEAREST_NEIGHBORS = 21, max_control_points=5, PIXEL_TOL=10\n",
      "We succeeded, NUM_NEAREST_NEIGHBORS = 21, max_control_points=21, PIXEL_TOL=10\n",
      "\n"
     ]
    }
   ],
   "source": [
    "for pix in [2,5,10]:\n",
    "    aa.PIXEL_TOL = pix\n",
    "    for nn in [5,10,15,21]:\n",
    "        aa.NUM_NEAREST_NEIGHBORS = nn\n",
    "        for maxn in [3,4,5,21]:\n",
    "            try:\n",
    "                aa.find_transform(source,target,max_control_points=maxn)\n",
    "                print('We succeeded, NUM_NEAREST_NEIGHBORS = {}, max_control_points={}, PIXEL_TOL={}'.format(nn,maxn,pix))\n",
    "            except aa.MaxIterError:\n",
    "                print('We failed NUM_NEAREST_NEIGHBORS = {}, max_control_points={}, PIXEL_TOL={}'.format(nn,maxn,pix))\n",
    "    print('')"
   ]
  },
  {
   "cell_type": "markdown",
   "metadata": {},
   "source": [
    "### Conclusions:\n",
    "\n",
    "I would think this would be relatively easy given that by eye, there are nearly 10 matches, 5 of them being very good, within 1 FWHM. However, the successes and failures seem rather arbitrary to me.  \n",
    "\n",
    "At higher pixel tolerance, match ratio increases and the MaxIterErrors decrease. However, it is still tightly depending on max_control_points. Working at low and high max_control_points but not in between. This is possibly a hack/coincidence of these two arrays being pre-matched. But, I have tried on many other frames (and star lists) and found the same inconsistency. And most of the time, even setting max_control_points over the total number of stars didn't work, and sometimes also setting it to 3 didn't work either. \n",
    "\n",
    "Another issue seems to be how tightly bound the match is to the star order in BOTH lists. Removing 1 star from a list leads to not a match, while removing 1 star from each list leads to a match again. I know that shuffling the list or star lists that are less well matched from the outset basically always lead to this MaxIterError for me.\n",
    "\n",
    "For this notebook, I chose a frame that works relatively well and should be easy, but still fails in multiple ways, to hopefully troubleshoot the issue.\n",
    "\n",
    "However, I did learn that increasing NUM_NEAREST_NEIGHBORS amd PIXEL_TOL significantly is giving more successes than I realized was possible. It's just that the resource utilization increases significantly for frames with many more stars. And we still randomly fail at max_control_points > 3 but less than the whole (is this just due to the array being \"pre-matched\"?). Perhaps a test with another frame is needed to demonstrate."
   ]
  },
  {
   "cell_type": "code",
   "execution_count": 12,
   "metadata": {},
   "outputs": [
    {
     "name": "stdout",
     "output_type": "stream",
     "text": [
      "(<skimage.transform._geometric.SimilarityTransform object at 0x7fcf17dd6080>, (array([[1938.37626961,  144.78829716],\n",
      "       [1413.83088379,  698.74346478],\n",
      "       [ 446.22102727, 1608.89147852]]), array([[1939.61091278,  145.97199619],\n",
      "       [1414.73856939,  699.84376775],\n",
      "       [ 443.95616162, 1613.83448891]])))\n"
     ]
    },
    {
     "ename": "MaxIterError",
     "evalue": "List of matching triangles exhausted before an acceptable transformation was found",
     "output_type": "error",
     "traceback": [
      "\u001b[0;31m---------------------------------------------------------------------------\u001b[0m",
      "\u001b[0;31mMaxIterError\u001b[0m                              Traceback (most recent call last)",
      "\u001b[0;32m<ipython-input-12-daa94aa834c8>\u001b[0m in \u001b[0;36m<module>\u001b[0;34m\u001b[0m\n\u001b[1;32m      6\u001b[0m \u001b[0mnp\u001b[0m\u001b[0;34m.\u001b[0m\u001b[0mrandom\u001b[0m\u001b[0;34m.\u001b[0m\u001b[0mshuffle\u001b[0m\u001b[0;34m(\u001b[0m\u001b[0msource\u001b[0m\u001b[0;34m)\u001b[0m\u001b[0;34m\u001b[0m\u001b[0;34m\u001b[0m\u001b[0m\n\u001b[1;32m      7\u001b[0m \u001b[0;34m\u001b[0m\u001b[0m\n\u001b[0;32m----> 8\u001b[0;31m \u001b[0mprint\u001b[0m\u001b[0;34m(\u001b[0m\u001b[0maa\u001b[0m\u001b[0;34m.\u001b[0m\u001b[0mfind_transform\u001b[0m\u001b[0;34m(\u001b[0m\u001b[0msource\u001b[0m\u001b[0;34m,\u001b[0m\u001b[0mtarget\u001b[0m\u001b[0;34m,\u001b[0m\u001b[0mmax_control_points\u001b[0m\u001b[0;34m=\u001b[0m\u001b[0;36m3\u001b[0m\u001b[0;34m)\u001b[0m\u001b[0;34m)\u001b[0m\u001b[0;34m\u001b[0m\u001b[0;34m\u001b[0m\u001b[0m\n\u001b[0m",
      "\u001b[0;32m~/Academia/Research/TOROS/Code/astroalign/astroalign.py\u001b[0m in \u001b[0;36mfind_transform\u001b[0;34m(source, target, max_control_points, detection_sigma, min_area)\u001b[0m\n\u001b[1;32m    334\u001b[0m     \u001b[0;32melse\u001b[0m\u001b[0;34m:\u001b[0m\u001b[0;34m\u001b[0m\u001b[0;34m\u001b[0m\u001b[0m\n\u001b[1;32m    335\u001b[0m         best_t, inlier_ind = _ransac(\n\u001b[0;32m--> 336\u001b[0;31m             \u001b[0mmatches\u001b[0m\u001b[0;34m,\u001b[0m \u001b[0minv_model\u001b[0m\u001b[0;34m,\u001b[0m \u001b[0mPIXEL_TOL\u001b[0m\u001b[0;34m,\u001b[0m \u001b[0mmin_matches\u001b[0m\u001b[0;34m\u001b[0m\u001b[0;34m\u001b[0m\u001b[0m\n\u001b[0m\u001b[1;32m    337\u001b[0m         )\n\u001b[1;32m    338\u001b[0m     \u001b[0mtriangle_inliers\u001b[0m \u001b[0;34m=\u001b[0m \u001b[0mmatches\u001b[0m\u001b[0;34m[\u001b[0m\u001b[0minlier_ind\u001b[0m\u001b[0;34m]\u001b[0m\u001b[0;34m\u001b[0m\u001b[0;34m\u001b[0m\u001b[0m\n",
      "\u001b[0;32m~/Academia/Research/TOROS/Code/astroalign/astroalign.py\u001b[0m in \u001b[0;36m_ransac\u001b[0;34m(data, model, thresh, min_matches)\u001b[0m\n\u001b[1;32m    567\u001b[0m     \u001b[0;32mif\u001b[0m \u001b[0mgood_fit\u001b[0m \u001b[0;32mis\u001b[0m \u001b[0;32mNone\u001b[0m\u001b[0;34m:\u001b[0m\u001b[0;34m\u001b[0m\u001b[0;34m\u001b[0m\u001b[0m\n\u001b[1;32m    568\u001b[0m         raise MaxIterError(\n\u001b[0;32m--> 569\u001b[0;31m             \u001b[0;34m\"List of matching triangles exhausted before an acceptable \"\u001b[0m\u001b[0;34m\u001b[0m\u001b[0;34m\u001b[0m\u001b[0m\n\u001b[0m\u001b[1;32m    570\u001b[0m             \u001b[0;34m\"transformation was found\"\u001b[0m\u001b[0;34m\u001b[0m\u001b[0;34m\u001b[0m\u001b[0m\n\u001b[1;32m    571\u001b[0m         )\n",
      "\u001b[0;31mMaxIterError\u001b[0m: List of matching triangles exhausted before an acceptable transformation was found"
     ]
    }
   ],
   "source": [
    "#Proof that order matters.\n",
    "aa.PIXEL_TOL = 4*fwhm\n",
    "aa.NUM_NEAREST_NEIGHBORS = 5\n",
    "print(aa.find_transform(source,target,max_control_points=3))\n",
    "\n",
    "np.random.shuffle(source)\n",
    "\n",
    "print(aa.find_transform(source,target,max_control_points=3))"
   ]
  },
  {
   "cell_type": "code",
   "execution_count": 13,
   "metadata": {},
   "outputs": [
    {
     "name": "stdout",
     "output_type": "stream",
     "text": [
      "(<skimage.transform._geometric.SimilarityTransform object at 0x7fcf17de50b8>, (array([[  38.17518941,  497.67654027],\n",
      "       [1338.57357103,  753.22720998],\n",
      "       [ 274.79396628, 1150.91243213],\n",
      "       [ 809.14769414,  283.77526048],\n",
      "       [1413.83088379,  698.74346478],\n",
      "       [1938.37626961,  144.78829716],\n",
      "       [ 337.56582895,  603.9644749 ]]), array([[  29.26206659,  533.59769915],\n",
      "       [1339.17433198,  755.03709459],\n",
      "       [ 269.44925722, 1168.60692508],\n",
      "       [ 804.13380434,  306.39669807],\n",
      "       [1414.73856939,  699.84376775],\n",
      "       [1939.61091278,  145.97199619],\n",
      "       [ 330.62021711,  630.8327855 ]])))\n"
     ]
    }
   ],
   "source": [
    "print(aa.find_transform(source,target,max_control_points=21))"
   ]
  },
  {
   "cell_type": "code",
   "execution_count": null,
   "metadata": {},
   "outputs": [],
   "source": []
  }
 ],
 "metadata": {
  "kernelspec": {
   "display_name": "Python 3",
   "language": "python",
   "name": "python3"
  },
  "language_info": {
   "codemirror_mode": {
    "name": "ipython",
    "version": 3
   },
   "file_extension": ".py",
   "mimetype": "text/x-python",
   "name": "python",
   "nbconvert_exporter": "python",
   "pygments_lexer": "ipython3",
   "version": "3.7.3"
  }
 },
 "nbformat": 4,
 "nbformat_minor": 4
}
